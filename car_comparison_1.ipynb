{
  "nbformat": 4,
  "nbformat_minor": 0,
  "metadata": {
    "colab": {
      "provenance": []
    },
    "kernelspec": {
      "name": "python3",
      "display_name": "Python 3"
    },
    "language_info": {
      "name": "python"
    }
  },
  "cells": [
    {
      "cell_type": "code",
      "execution_count": 1,
      "metadata": {
        "id": "nzBxLbv5jhX9"
      },
      "outputs": [],
      "source": [
        "# from google.colab import drive\n",
        "# drive.mount('/content/drive')\n",
        "\n",
        "# file_path = '/content/drive/MyDrive/Binder_test/Car_Comparison.xlsx'"
      ]
    },
    {
      "cell_type": "code",
      "source": [
        "# !pip install jupyter_dash\n"
      ],
      "metadata": {
        "collapsed": true,
        "id": "vsm12YIwnU2d"
      },
      "execution_count": 2,
      "outputs": []
    },
    {
      "cell_type": "code",
      "source": [],
      "metadata": {
        "id": "Tose4ReRt-HQ"
      },
      "execution_count": 2,
      "outputs": []
    },
    {
      "cell_type": "code",
      "source": [
        "import dash\n",
        "from dash import dcc, html, Input, Output\n",
        "import pandas as pd\n",
        "import plotly.express as px\n",
        "from jupyter_dash import JupyterDash  # Import JupyterDash\n",
        "\n",
        "# Load the Excel file from GitHub\n",
        "url = 'https://github.com/vijaypolimeru/car_comparison_test/raw/main/Car_Comparison.xlsx'\n",
        "df = pd.read_excel(url)\n",
        "\n",
        "# Display the first few rows of the dataframe\n",
        "df.head()\n",
        "\n",
        "# Initialize the Dash app using JupyterDash\n",
        "app = JupyterDash(__name__)\n",
        "\n",
        "# Define the app layout\n",
        "app.layout = html.Div([\n",
        "    html.H1(\"Car Comparison Dashboard\", style={'text-align': 'center'}),\n",
        "\n",
        "    html.Label(\"Select Engine Type:\"),\n",
        "    dcc.Dropdown(\n",
        "        id=\"engine_dropdown\",\n",
        "        options=[{\"label\": etype, \"value\": etype} for etype in df[\"Engine Type\"].unique()],\n",
        "        value=df[\"Engine Type\"].unique()[0],  # Default value\n",
        "        clearable=False,\n",
        "        style={\"width\": \"50%\"}\n",
        "    ),\n",
        "\n",
        "    dcc.Graph(id=\"price_mileage_graph\"),\n",
        "])\n",
        "\n",
        "# Define the callback to update the graph\n",
        "@app.callback(\n",
        "    Output(\"price_mileage_graph\", \"figure\"),\n",
        "    [Input(\"engine_dropdown\", \"value\")]\n",
        ")\n",
        "def update_graph(selected_engine):\n",
        "    filtered_df = df[df[\"Engine Type\"] == selected_engine]\n",
        "    fig = px.scatter(\n",
        "        filtered_df,\n",
        "        x=\"Mileage (km/l)\",\n",
        "        y=\"Price (in Lakh)\",\n",
        "        size=\"Safety Rating (out of 5)\",\n",
        "        color=\"Car Model\",\n",
        "        title=f\"Price vs Mileage for {selected_engine}\",\n",
        "        labels={\"Mileage (km/l)\": \"Mileage\", \"Price (in Lakh)\": \"Price\"}\n",
        "    )\n",
        "    return fig\n",
        "\n",
        "# Run the app inline within the Jupyter notebook\n",
        "if __name__ == \"__main__\":\n",
        "    app.run_server(mode=\"inline\")  # Use mode=\"inline\" for JupyterDash\n"
      ],
      "metadata": {
        "colab": {
          "base_uri": "https://localhost:8080/",
          "height": 1000
        },
        "id": "NaWz81TDn8er",
        "outputId": "58cc2f27-dcfd-4bd4-9f8e-b6b3784336e9"
      },
      "execution_count": 3,
      "outputs": [
        {
          "output_type": "stream",
          "name": "stderr",
          "text": [
            "/usr/local/lib/python3.10/dist-packages/dash/dash.py:579: UserWarning:\n",
            "\n",
            "JupyterDash is deprecated, use Dash instead.\n",
            "See https://dash.plotly.com/dash-in-jupyter for more details.\n",
            "\n"
          ]
        },
        {
          "output_type": "display_data",
          "data": {
            "text/plain": [
              "<IPython.core.display.Javascript object>"
            ],
            "application/javascript": [
              "(async (port, path, width, height, cache, element) => {\n",
              "    if (!google.colab.kernel.accessAllowed && !cache) {\n",
              "      return;\n",
              "    }\n",
              "    element.appendChild(document.createTextNode(''));\n",
              "    const url = await google.colab.kernel.proxyPort(port, {cache});\n",
              "    const iframe = document.createElement('iframe');\n",
              "    iframe.src = new URL(path, url).toString();\n",
              "    iframe.height = height;\n",
              "    iframe.width = width;\n",
              "    iframe.style.border = 0;\n",
              "    iframe.allow = [\n",
              "        'accelerometer',\n",
              "        'autoplay',\n",
              "        'camera',\n",
              "        'clipboard-read',\n",
              "        'clipboard-write',\n",
              "        'gyroscope',\n",
              "        'magnetometer',\n",
              "        'microphone',\n",
              "        'serial',\n",
              "        'usb',\n",
              "        'xr-spatial-tracking',\n",
              "    ].join('; ');\n",
              "    element.appendChild(iframe);\n",
              "  })(8050, \"/\", \"100%\", 650, false, window.element)"
            ]
          },
          "metadata": {}
        },
        {
          "output_type": "display_data",
          "data": {
            "text/plain": [
              "<IPython.core.display.Javascript object>"
            ],
            "application/javascript": [
              "(async (port, path, width, height, cache, element) => {\n",
              "    if (!google.colab.kernel.accessAllowed && !cache) {\n",
              "      return;\n",
              "    }\n",
              "    element.appendChild(document.createTextNode(''));\n",
              "    const url = await google.colab.kernel.proxyPort(port, {cache});\n",
              "    const iframe = document.createElement('iframe');\n",
              "    iframe.src = new URL(path, url).toString();\n",
              "    iframe.height = height;\n",
              "    iframe.width = width;\n",
              "    iframe.style.border = 0;\n",
              "    iframe.allow = [\n",
              "        'accelerometer',\n",
              "        'autoplay',\n",
              "        'camera',\n",
              "        'clipboard-read',\n",
              "        'clipboard-write',\n",
              "        'gyroscope',\n",
              "        'magnetometer',\n",
              "        'microphone',\n",
              "        'serial',\n",
              "        'usb',\n",
              "        'xr-spatial-tracking',\n",
              "    ].join('; ');\n",
              "    element.appendChild(iframe);\n",
              "  })(8050, \"/\", \"100%\", 650, false, window.element)"
            ]
          },
          "metadata": {}
        }
      ]
    },
    {
      "cell_type": "code",
      "source": [
        "# !pip freeze > requirements.txt\n"
      ],
      "metadata": {
        "id": "YzFajfxIoDNL"
      },
      "execution_count": 4,
      "outputs": []
    },
    {
      "cell_type": "code",
      "source": [
        "# from google.colab import files\n",
        "# files.download('requirements.txt')\n"
      ],
      "metadata": {
        "id": "cH2OzTLwoUMN"
      },
      "execution_count": 5,
      "outputs": []
    },
    {
      "cell_type": "code",
      "source": [],
      "metadata": {
        "id": "AY5hOGZSoW9L"
      },
      "execution_count": 5,
      "outputs": []
    }
  ]
}